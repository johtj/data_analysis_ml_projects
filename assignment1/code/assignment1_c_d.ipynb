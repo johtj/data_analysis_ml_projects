{
 "cells": [
  {
   "cell_type": "code",
   "execution_count": 1,
   "id": "ffc2e514",
   "metadata": {},
   "outputs": [],
   "source": [
    "#import common modules\n",
    "import numpy as np\n",
    "from sklearn.model_selection import train_test_split\n",
    "\n",
    "#import own modules\n",
    "from source.matrix_creation import polynomial_features,scale_features_by_intercept_use,standard_scaler\n",
    "from source.plotting_exploration import explore_eta,explore_n\n",
    "from source.plotting_exploration import plot_mse,plot_r2\n",
    "from source.plotting_exploration import explore_iterations_GD_methods_ridge,explore_iterations_GD_methods_OLS\n",
    "from source.plotting_exploration import explore_n_epochs_stochasticGD_ridge,explore_n_epochs_stochasticGD_OLS"
   ]
  },
  {
   "cell_type": "markdown",
   "id": "9d612b8b",
   "metadata": {},
   "source": [
    "## Notebook for assignment 1 parts c,d"
   ]
  },
  {
   "cell_type": "markdown",
   "id": "f21c478f",
   "metadata": {},
   "source": [
    "Generating analysis plots for assignement 1 parts c) and d) exploring Gradient descent for various methods for updating the learning rate. \n",
    "\n",
    "* Functions for the main methods can be found in source/GD_OLS.py and source/GD_Ridge.py\n",
    "* Functions generating and scaling the feature matrix can be found in source/matrix_creation.py \n",
    "* Functions for calculating errors can be found in source/errors.py\n",
    "* Functions for plotting and exploration can be found in source/plotting_exploration.py\n"
   ]
  },
  {
   "cell_type": "markdown",
   "id": "bb6ab792",
   "metadata": {},
   "source": [
    "### Setup for constants"
   ]
  },
  {
   "cell_type": "code",
   "execution_count": 34,
   "id": "687ee8e1",
   "metadata": {},
   "outputs": [],
   "source": [
    "# Runge's function - parameters to explore\n",
    "n_datapoints = 400\n",
    "standard_deviation = 0.1 # for noise\n",
    "p = 15 # polynomial degree\n",
    "\n",
    "lambda_range = (-1,-5) # range of lambda values for np.log\n",
    "lambda_n = 20 # number lambda values to explore\n",
    "lambdas_start = np.logspace(lambda_range[0],lambda_range[1],lambda_n) # lambdas generated in logspace for learning rate\n",
    "\n",
    "# tolerance criteria for gradient descent methods\n",
    "tolerance = 1e-6\n",
    "max_iterations = 1000\n",
    "\n",
    "use_intercept = True \n",
    "create_plots = False\n",
    "verbose_bool = False\n",
    "\n",
    "np.random.seed(250)  # ensure reproducibility numpy\n",
    "random_state_int = 42   # ensure reproducibility train_test_split"
   ]
  },
  {
   "cell_type": "markdown",
   "id": "bb39f700",
   "metadata": {},
   "source": [
    "#### Constants for analysis"
   ]
  },
  {
   "cell_type": "code",
   "execution_count": 35,
   "id": "ff90b257",
   "metadata": {},
   "outputs": [],
   "source": [
    "eta_list = [0.00001,0.0001,0.001, 0.01, 0.1,0.12,0.121] \n",
    "num_iters = 1000\n",
    "\n",
    "iter_list = [10,50,100,1000,10000,100000]\n",
    "eta = 0.001\n",
    "lam = 0.01"
   ]
  },
  {
   "cell_type": "markdown",
   "id": "fae4e373",
   "metadata": {},
   "source": [
    "### Generate Runge's function data"
   ]
  },
  {
   "cell_type": "markdown",
   "id": "5c0335ec",
   "metadata": {},
   "source": [
    "#### No noise"
   ]
  },
  {
   "cell_type": "code",
   "execution_count": 36,
   "id": "28fd099b",
   "metadata": {},
   "outputs": [],
   "source": [
    "# generating data without noise\n",
    "x = np.linspace(-1, 1, num=n_datapoints)\n",
    "y = 1 / (1 + 25 * x**2)"
   ]
  },
  {
   "cell_type": "markdown",
   "id": "8a52c649",
   "metadata": {},
   "source": [
    "#### With noise"
   ]
  },
  {
   "cell_type": "code",
   "execution_count": 37,
   "id": "53ce67c4",
   "metadata": {},
   "outputs": [],
   "source": [
    "# generating data with noise\n",
    "x_noise = x\n",
    "y_noise = 1 / (1 + 25 * x_noise**2) + np.random.normal(0, standard_deviation, n_datapoints)"
   ]
  },
  {
   "cell_type": "markdown",
   "id": "a54e2afd",
   "metadata": {},
   "source": [
    "### Generate feature matrix, scale and split into training and test data"
   ]
  },
  {
   "cell_type": "markdown",
   "id": "46a145ae",
   "metadata": {},
   "source": [
    "#### No noise"
   ]
  },
  {
   "cell_type": "code",
   "execution_count": 38,
   "id": "8d416dff",
   "metadata": {},
   "outputs": [],
   "source": [
    "# creating design matrix with polynomial features: p\n",
    "X = polynomial_features(x, p,intercept=use_intercept) # intercept=True gives intercept column = 0 in standard scaler if intercept is True, and hence division by 0. \n",
    "\n",
    "# split x for plotting\n",
    "x_train, x_test, y_train, y_test = train_test_split(x, y, test_size=0.2, random_state=random_state_int)\n",
    "# test and train dataset, and scaling of X_train and X_test\n",
    "X_train, X_test, y_train, y_test = train_test_split(X, y, test_size=0.2, random_state=random_state_int)\n",
    "X_train_scaled, X_test_scaled, X_train_mean, X_train_std = scale_features_by_intercept_use(X_train, X_test, use_intercept)\n",
    "# scaling of y_train and y_test\n",
    "y_train_scaled, y_test_scaled, y_train_mean, y_train_std = standard_scaler(y_train, y_test)"
   ]
  },
  {
   "cell_type": "markdown",
   "id": "53e34fbf",
   "metadata": {},
   "source": [
    "#### With noise"
   ]
  },
  {
   "cell_type": "code",
   "execution_count": 39,
   "id": "4ce9b170",
   "metadata": {},
   "outputs": [],
   "source": [
    "# creating design matrix with polynomial features: p\n",
    "X_noise = polynomial_features(x_noise, p,intercept=use_intercept) # intercept=True gives intercept column = 0 in standard scaler if intercept is True, and hence division by 0. Leaving intercept out since Ridge regression handles this\n",
    "\n",
    "# test and train dataset, and scaling of X_train and X_test\n",
    "x_train_noise, x_test_noise, y_train_noise, y_test_noise = train_test_split(x_noise, y_noise, test_size=0.2, random_state=random_state_int)\n",
    "X_train_noise, X_test_noise, y_train_noise, y_test_noise = train_test_split(X_noise, y_noise, test_size=0.2, random_state = random_state_int)\n",
    "X_train_scaled_noise, X_test_scaled_noise, X_mean, X_std = scale_features_by_intercept_use(X_train_noise, X_test_noise, use_intercept)\n",
    "# scaling of y_train and y_test\n",
    "y_train_scaled_noise, y_test_scaled_noise, y_train_mean_noise, y_train_std_noise = standard_scaler(y_train_noise, y_test_noise)"
   ]
  },
  {
   "cell_type": "markdown",
   "id": "7f4ce3d5",
   "metadata": {},
   "source": [
    "### Analysis"
   ]
  },
  {
   "cell_type": "markdown",
   "id": "efa689b1",
   "metadata": {},
   "source": [
    "#### Explore Gradient descent using OLS & Ridge for various eta, with no noise"
   ]
  },
  {
   "cell_type": "code",
   "execution_count": 40,
   "id": "a103b6a0",
   "metadata": {},
   "outputs": [],
   "source": [
    "import matplotlib.pyplot as plt"
   ]
  },
  {
   "cell_type": "code",
   "execution_count": 41,
   "id": "604f6bbc",
   "metadata": {},
   "outputs": [
    {
     "name": "stdout",
     "output_type": "stream",
     "text": [
      "0.11242588577850897\n",
      "0.09397968350009381\n",
      "0.052847431065203426\n",
      "0.0310612822364312\n",
      "0.018620113475029648\n",
      "0.01764337646736625\n",
      "0.017597094557748053\n"
     ]
    },
    {
     "data": {
      "image/png": "[encoded data removed]",
      "text/plain": [
       "<Figure size 1000x1500 with 2 Axes>"
      ]
     },
     "metadata": {},
     "output_type": "display_data"
    }
   ],
   "source": [
    "eta_list,mse_train_OLS,mse_test_OLS,mse_train_Ridge,mse_test_Ridge,r2_train_gdOLS,r2_test_Ridge = explore_eta(X_train,X_test,y_train,y_test,num_iters,eta_list,lam,verbose=False)\n",
    "\n",
    "fig = plt.figure(figsize=(10,15))\n",
    "ax1 = plt.subplot(2,1,1)\n",
    "ax1.plot(eta_list,mse_test_OLS)\n",
    "ax1.plot(eta_list,mse_train_OLS)\n",
    "ax1.set_xlabel(\"Eta\")\n",
    "ax1.set_ylabel(\"MSE\")\n",
    "ax1.set_title(\"(a)\")\n",
    "\n",
    "ax2 = plt.subplot(2,1,2)\n",
    "ax2.plot(eta_list,mse_test_OLS)\n",
    "ax2.plot(eta_list,mse_train_OLS)\n",
    "ax2.set_xlabel(\"Eta\")\n",
    "ax2.set_ylabel(\"MSE\")\n",
    "ax2.set_title(\"(b)\")\n",
    "\n",
    "plt.savefig(\"mse_gradient_descent_temp.png\")\n",
    "\n"
   ]
  },
  {
   "cell_type": "markdown",
   "id": "37eb92a5",
   "metadata": {},
   "source": [
    "#### Explore Gradient descent using OLS & Ridge for various eta, with noise"
   ]
  },
  {
   "cell_type": "code",
   "execution_count": 42,
   "id": "58192aa9",
   "metadata": {},
   "outputs": [
    {
     "name": "stdout",
     "output_type": "stream",
     "text": [
      "0.11242588577850897\n",
      "0.09397968350009381\n",
      "0.052847431065203426\n",
      "0.0310612822364312\n",
      "0.018620113475029648\n",
      "0.01764337646736625\n",
      "0.017597094557748053\n"
     ]
    },
    {
     "ename": "TypeError",
     "evalue": "plot_mse() missing 1 required positional argument: 'mse_test'",
     "output_type": "error",
     "traceback": [
      "\u001b[31m---------------------------------------------------------------------------\u001b[39m",
      "\u001b[31mTypeError\u001b[39m                                 Traceback (most recent call last)",
      "\u001b[36mCell\u001b[39m\u001b[36m \u001b[39m\u001b[32mIn[42]\u001b[39m\u001b[32m, line 2\u001b[39m\n\u001b[32m      1\u001b[39m etas,mse_train_OLS,mse_test_OLS,mse_train_Ridge,mse_test_Ridge,r2_train_gdOLS,r2_test_Ridge = explore_eta(X_train,X_test,y_train,y_test,num_iters,eta_list,lam,verbose=\u001b[38;5;28;01mFalse\u001b[39;00m)\n\u001b[32m----> \u001b[39m\u001b[32m2\u001b[39m \u001b[43mplot_mse\u001b[49m\u001b[43m(\u001b[49m\u001b[43mn_datapoints\u001b[49m\u001b[43m,\u001b[49m\u001b[43metas\u001b[49m\u001b[43m,\u001b[49m\u001b[33;43m\"\u001b[39;49m\u001b[33;43mGradient descent for Oridnary least squares varying Etas,\u001b[39;49m\u001b[38;5;130;43;01m\\n\u001b[39;49;00m\u001b[33;43m and 1000 iterations\u001b[39;49m\u001b[33;43m\"\u001b[39;49m\u001b[43m,\u001b[49m\u001b[43mmse_train_OLS\u001b[49m\u001b[43m,\u001b[49m\u001b[43mmse_test_OLS\u001b[49m\u001b[43m)\u001b[49m\n\u001b[32m      3\u001b[39m plot_mse(n_datapoints,etas,\u001b[33m\"\u001b[39m\u001b[33mGradient descent for Ridge regression varying Etas,\u001b[39m\u001b[38;5;130;01m\\n\u001b[39;00m\u001b[33m and 1000 iterations\u001b[39m\u001b[33m\"\u001b[39m,mse_train_Ridge,mse_test_Ridge)\n",
      "\u001b[31mTypeError\u001b[39m: plot_mse() missing 1 required positional argument: 'mse_test'"
     ]
    }
   ],
   "source": [
    "etas,mse_train_OLS,mse_test_OLS,mse_train_Ridge,mse_test_Ridge,r2_train_gdOLS,r2_test_Ridge = explore_eta(X_train,X_test,y_train,y_test,num_iters,eta_list,lam,verbose=False)\n",
    "plot_mse(n_datapoints,etas,\"Gradient descent for Oridnary least squares varying Etas,\\n and 1000 iterations\",mse_train_OLS,mse_test_OLS)\n",
    "plot_mse(n_datapoints,etas,\"Gradient descent for Ridge regression varying Etas,\\n and 1000 iterations\",mse_train_Ridge,mse_test_Ridge)\n"
   ]
  },
  {
   "cell_type": "markdown",
   "id": "28364f0a",
   "metadata": {},
   "source": [
    "#### Explore Gradient descent using OLS & Ridge for various number of iterations, with no noise"
   ]
  },
  {
   "cell_type": "code",
   "execution_count": null,
   "id": "e4fbfc99",
   "metadata": {},
   "outputs": [],
   "source": [
    "iter_list,mse_train_OLS,mse_test_OLS,mse_train_Ridge,mse_test_Ridge,r2_train_gdOLS,r2_test_Ridge = explore_n(X_train,X_test,y_train,y_test,iter_list,lam,eta,verbose=False)\n",
    "\n",
    "plot_mse(n_datapoints,iter_list,\"Gradient descent for Oridnary least squares varying iterations,\\n and eta 0.15\",mse_train_OLS,mse_test_OLS)\n",
    "plot_mse(n_datapoints,iter_list,\"Gradient descent for Ridge regression varying varying iterations,\\n and eta 0.15\",mse_train_Ridge,mse_test_Ridge)\n",
    "print(mse_test_Ridge)"
   ]
  },
  {
   "cell_type": "markdown",
   "id": "b9e2c1b7",
   "metadata": {},
   "source": [
    "#### Explore Gradient descent using OLS & Ridge for various number of iterations, with noise"
   ]
  },
  {
   "cell_type": "code",
   "execution_count": null,
   "id": "fdecb74b",
   "metadata": {},
   "outputs": [],
   "source": [
    "iter_list,mse_train_OLS,mse_test_OLS,mse_train_Ridge,mse_test_Ridge,r2_train_gdOLS,r2_test_Ridge = explore_n(X_train,X_test,y_train,y_test,iter_list,lam,eta,verbose=False)\n",
    "\n",
    "plot_mse(n_datapoints,iter_list,\"Gradient descent for Oridnary least squares varying iterations,\\n and eta 0.15\",mse_train_OLS,mse_test_OLS)\n",
    "plot_mse(n_datapoints,iter_list,\"Gradient descent for Ridge regression varying varying iterations,\\n and eta 0.15\",mse_train_Ridge,mse_test_Ridge)\n",
    "print(mse_test_Ridge)"
   ]
  },
  {
   "cell_type": "markdown",
   "id": "c822c050",
   "metadata": {},
   "source": [
    "#### Explore Gradient descent using OLS, with different ways of updating the learning rate, for various number of iterations, with no noise"
   ]
  },
  {
   "cell_type": "code",
   "execution_count": null,
   "id": "081f4b38",
   "metadata": {},
   "outputs": [],
   "source": [
    "explore_iterations_GD_methods_OLS(iter_list,eta,\n",
    "                                  x,y,\n",
    "                                  x_train,x_test,\n",
    "                                  X_train_scaled,X_test_scaled,\n",
    "                                  y_train)"
   ]
  },
  {
   "cell_type": "markdown",
   "id": "b1bb8550",
   "metadata": {},
   "source": [
    "#### Explore Gradient descent using OLS, with different ways of updating the learning rate, for various number of iterations, with noise"
   ]
  },
  {
   "cell_type": "code",
   "execution_count": null,
   "id": "c7089a16",
   "metadata": {},
   "outputs": [],
   "source": [
    "explore_iterations_GD_methods_OLS(iter_list,eta,\n",
    "                                  x,y,\n",
    "                                  x_train,x_test,\n",
    "                                  X_train_scaled,X_test_scaled,\n",
    "                                  y_train)"
   ]
  },
  {
   "cell_type": "markdown",
   "id": "45b0e6bd",
   "metadata": {},
   "source": [
    "#### Explore Gradient descent using ridge regression, with different ways of updating the learning rate, for various number of iterations, with no noise"
   ]
  },
  {
   "cell_type": "code",
   "execution_count": null,
   "id": "0631a39a",
   "metadata": {},
   "outputs": [],
   "source": [
    "explore_iterations_GD_methods_ridge(iter_list,eta,lam,\n",
    "                                    x,y,\n",
    "                                    x_train,x_test,\n",
    "                                    X_train_scaled,X_test_scaled,\n",
    "                                    y_train)"
   ]
  },
  {
   "cell_type": "markdown",
   "id": "2ed02a6e",
   "metadata": {},
   "source": [
    "#### Explore Gradient descent using ridge regression, with different ways of updating the learning rate, for various number of iterations, with noise"
   ]
  },
  {
   "cell_type": "code",
   "execution_count": null,
   "id": "f0ace115",
   "metadata": {},
   "outputs": [],
   "source": [
    "explore_iterations_GD_methods_ridge(iter_list,eta,lam,\n",
    "                                    x,y,\n",
    "                                    x_train,x_test,\n",
    "                                    X_train_scaled,X_test_scaled,\n",
    "                                    y_train)"
   ]
  }
 ],
 "metadata": {
  "kernelspec": {
   "display_name": "t2_electric_boogalo",
   "language": "python",
   "name": "python3"
  },
  "language_info": {
   "codemirror_mode": {
    "name": "ipython",
    "version": 3
   },
   "file_extension": ".py",
   "mimetype": "text/x-python",
   "name": "python",
   "nbconvert_exporter": "python",
   "pygments_lexer": "ipython3",
   "version": "3.13.5"
  }
 },
 "nbformat": 4,
 "nbformat_minor": 5
}
