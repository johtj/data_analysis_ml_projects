{
 "cells": [
  {
   "cell_type": "code",
   "execution_count": 3,
   "id": "4fcca047",
   "metadata": {},
   "outputs": [],
   "source": [
    "import numpy as np"
   ]
  },
  {
   "cell_type": "code",
   "execution_count": 4,
   "id": "532c1e8c",
   "metadata": {},
   "outputs": [],
   "source": [
    "dims = [2,4,10,3,1]"
   ]
  },
  {
   "cell_type": "code",
   "execution_count": 27,
   "id": "3a177ed4",
   "metadata": {},
   "outputs": [
    {
     "name": "stdout",
     "output_type": "stream",
     "text": [
      "(2, 4)\n",
      "(4, 10)\n",
      "(10, 3)\n",
      "(3, 1)\n",
      "3 5\n"
     ]
    }
   ],
   "source": [
    "np.random.seed()\n",
    "weights = list()\n",
    "for i in range(len(dims)-1):\n",
    "    weight_array = np.random.randn(dims[i],dims[i+1])\n",
    "    print(np.shape(weight_array))\n",
    "    #print(np.shape(weight_array[0,:]))\n",
    "    weight_array[0,:] = np.random.randn(dims[i+1]) * 0.01\n",
    "    weights.append(weight_array)\n",
    "\n",
    "print(len(weight_array),len(dims))"
   ]
  },
  {
   "cell_type": "code",
   "execution_count": 26,
   "id": "903a97c2",
   "metadata": {},
   "outputs": [
    {
     "name": "stdout",
     "output_type": "stream",
     "text": [
      "(2, 4)\n",
      "(4, 10)\n",
      "(10, 3)\n",
      "(3, 1)\n"
     ]
    }
   ],
   "source": [
    "network_input_size = 2\n",
    "layer_output_sizes = [4,10,3,1]\n",
    "\n",
    "layers = []\n",
    "\n",
    "input_size = network_input_size\n",
    "for output_size in layer_output_sizes:\n",
    "    W = np.random.randn(input_size, output_size)\n",
    "    b = np.random.randn(output_size)\n",
    "    layers.append((W, b))\n",
    "    print(np.shape(W))\n",
    "    input_size = output_size\n",
    "\n",
    "    #(out,in)\n"
   ]
  },
  {
   "cell_type": "code",
   "execution_count": 14,
   "id": "aeadf680",
   "metadata": {},
   "outputs": [
    {
     "data": {
      "text/plain": [
       "[(array([[ 1.84703376,  0.78622065],\n",
       "         [-0.00282898, -0.74444692],\n",
       "         [-0.67894849, -1.37740531],\n",
       "         [ 0.74730963,  0.03855254]]),\n",
       "  array([-0.27434914, -0.5254545 ,  0.47471253,  0.95676817])),\n",
       " (array([[-0.59608933,  0.35742609, -0.41357614,  1.31990616],\n",
       "         [-2.67240069,  0.71277565,  0.67803209, -1.13865303],\n",
       "         [-0.80835154, -1.47108311,  0.30513981,  0.19829524],\n",
       "         [-0.3796339 ,  1.76851372, -0.08325394, -2.49110996],\n",
       "         [ 0.37840072, -0.25343602,  0.83203739,  1.38070906],\n",
       "         [-0.82067544,  0.03043475,  0.98029691, -0.68545153],\n",
       "         [-0.15782218,  1.12414253,  1.31779229, -1.13994652],\n",
       "         [-1.20929815,  0.41803949,  0.409575  , -0.99098667],\n",
       "         [-0.52662106, -0.8754896 , -0.43844117,  0.38727919],\n",
       "         [-1.04290943,  0.17673302,  2.11489557,  0.46913279]]),\n",
       "  array([-0.11065468,  0.16468475, -1.85125736, -0.05107527,  1.71859734,\n",
       "          0.6692027 , -0.62746308,  0.75599899,  1.75137357, -0.17674175])),\n",
       " (array([[-0.01804614,  0.78973776, -0.61452179, -1.43317163, -0.5425078 ,\n",
       "          -1.37491476, -1.32175394,  0.73539224,  1.29103075, -0.00686411],\n",
       "         [-1.1110993 ,  1.18629207, -0.142616  ,  1.3878596 , -0.86424005,\n",
       "           0.56734211, -0.03769272,  0.26891628, -0.48523815, -1.53051538],\n",
       "         [-0.80282395,  0.53426256,  1.12517865,  0.43777758, -0.22610021,\n",
       "           0.09275996,  1.13788091, -0.15799307, -1.78869168,  2.38067973]]),\n",
       "  array([ 0.35277663, -0.79202291,  0.41629603])),\n",
       " (array([[ 1.25892462, -0.67597844, -1.66209058]]), array([0.141162]))]"
      ]
     },
     "execution_count": 14,
     "metadata": {},
     "output_type": "execute_result"
    }
   ],
   "source": [
    "layers"
   ]
  },
  {
   "cell_type": "code",
   "execution_count": null,
   "id": "a7b04980",
   "metadata": {},
   "outputs": [],
   "source": []
  }
 ],
 "metadata": {
  "kernelspec": {
   "display_name": "t2_electric_boogalo",
   "language": "python",
   "name": "python3"
  },
  "language_info": {
   "codemirror_mode": {
    "name": "ipython",
    "version": 3
   },
   "file_extension": ".py",
   "mimetype": "text/x-python",
   "name": "python",
   "nbconvert_exporter": "python",
   "pygments_lexer": "ipython3",
   "version": "3.13.5"
  }
 },
 "nbformat": 4,
 "nbformat_minor": 5
}
