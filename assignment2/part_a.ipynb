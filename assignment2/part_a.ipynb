{
 "cells": [
  {
   "cell_type": "markdown",
   "id": "2c57abb6",
   "metadata": {},
   "source": [
    "# Part A - Analytical warm-up"
   ]
  },
  {
   "cell_type": "code",
   "execution_count": null,
   "id": "c26980b6",
   "metadata": {},
   "outputs": [],
   "source": [
    "# imports\n",
    "import autograd.numpy as np \n",
    "import matplotlib.pyplot as plt\n",
    "\n",
    "# custom imports\n",
    "from activation_functions import sigmoid, RELU, LRELU\n",
    "from runge_preprocessing import y_noise\n"
   ]
  },
  {
   "cell_type": "code",
   "execution_count": null,
   "id": "2cca4396",
   "metadata": {},
   "outputs": [],
   "source": [
    "# Sigmoid activation function\n",
    "\n",
    "# full range of function\n",
    "z = np.arange(-5, 5, .1)\n",
    "full_sigmoid = sigmoid(z)\n",
    "\n",
    "# sigmoid from y_noise\n",
    "sigmoid_results = sigmoid(y_noise)\n",
    "\n",
    "plt.plot(z, full_sigmoid, label='Sigmoid - full range ')\n",
    "plt.scatter(y_noise, sigmoid(y_noise), label='Sigmoid - y_noise', color='red')\n",
    "plt.grid(True)\n",
    "plt.xlabel('z')\n",
    "plt.ylabel('sigmoid(z)')\n",
    "plt.title('Sigmoid activation function')\n",
    "plt.legend()\n",
    "plt.show()"
   ]
  },
  {
   "cell_type": "code",
   "execution_count": null,
   "id": "2864bec9",
   "metadata": {},
   "outputs": [],
   "source": [
    "# RELU activation function\n",
    "\n",
    "# full range of function\n",
    "z = np.arange(-5, 5, .1)\n",
    "full_relu= RELU(z)\n",
    "\n",
    "# sigmoid from y_noise\n",
    "relu_results = RELU(y_noise)\n",
    "\n",
    "plt.plot(z, full_relu, label='RELU - full range ')\n",
    "plt.scatter(y_noise, RELU(y_noise), label='RELU - y_noise', color='red')\n",
    "plt.grid(True)\n",
    "plt.xlabel('z')\n",
    "plt.ylabel('RELU(z)')\n",
    "plt.title('RELU activation function')\n",
    "plt.legend()\n",
    "plt.show()\n",
    "\n",
    "\n"
   ]
  },
  {
   "cell_type": "code",
   "execution_count": null,
   "id": "02cddf0b",
   "metadata": {},
   "outputs": [],
   "source": [
    "# LEAKY RELU activation function\n",
    "\n",
    "# full range of function\n",
    "z = np.arange(-5, 5, .1)\n",
    "full_relu= LRELU(z)\n",
    "\n",
    "# sigmoid from y_noise\n",
    "relu_results = LRELU(y_noise)\n",
    "\n",
    "plt.plot(z, full_relu, label='LEAKY RELU - full range ')\n",
    "plt.scatter(y_noise, LRELU(y_noise), label='LEAKY RELU - y_noise', color='red')\n",
    "plt.grid(True)\n",
    "plt.xlabel('z')\n",
    "plt.ylabel('LEAKY RELU(z)')\n",
    "plt.title('LEAKY RELU activation function')\n",
    "plt.legend()\n",
    "plt.show()"
   ]
  }
 ],
 "metadata": {
  "kernelspec": {
   "display_name": "4155 (3.13.3)",
   "language": "python",
   "name": "python3"
  },
  "language_info": {
   "codemirror_mode": {
    "name": "ipython",
    "version": 3
   },
   "file_extension": ".py",
   "mimetype": "text/x-python",
   "name": "python",
   "nbconvert_exporter": "python",
   "pygments_lexer": "ipython3",
   "version": "3.13.3"
  }
 },
 "nbformat": 4,
 "nbformat_minor": 5
}
