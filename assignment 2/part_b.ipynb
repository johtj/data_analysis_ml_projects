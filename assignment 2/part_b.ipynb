{
 "cells": [
  {
   "cell_type": "markdown",
   "id": "05946703",
   "metadata": {},
   "source": [
    "# Writing your own Neural Network code"
   ]
  }
 ],
 "metadata": {
  "language_info": {
   "name": "python"
  }
 },
 "nbformat": 4,
 "nbformat_minor": 5
}
