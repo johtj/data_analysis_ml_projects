{
 "cells": [
  {
   "cell_type": "markdown",
   "id": "2c57abb6",
   "metadata": {},
   "source": [
    "# Analytical warm-up"
   ]
  },
  {
   "cell_type": "markdown",
   "id": "22cf68dc",
   "metadata": {},
   "source": [
    "When using our gradient machinery from project 1, we will need the expressions for the cost/loss functions and their respective gradients. The functions whose gradients we need are:\n",
    "\n",
    "The mean-squared error (MSE) with and without the \n",
    " and \n",
    " norms (regression problems)\n",
    "\n",
    "The binary cross entropy (aka log loss) for binary classification problems with and without \n",
    " and \n",
    " norms\n",
    "\n",
    "The multiclass cross entropy cost/loss function (aka Softmax cross entropy or just Softmax loss function)\n",
    "\n",
    "Set up these three cost/loss functions and their respective derivatives and explain the various terms. In this project you will however only use the MSE and the Softmax cross entropy.\n",
    "\n",
    "We will test three activation functions for our neural network setup, these are the\n",
    "\n",
    "The Sigmoid (aka logit) function,\n",
    "\n",
    "the RELU function and\n",
    "\n",
    "the Leaky RELU function\n",
    "\n",
    "Set up their expressions and their first derivatives. You may consult the lecture notes (with codes and more) from week 42 at https://compphysics.github.io/MachineLearning/doc/LectureNotes/_build/html/week42.html."
   ]
  }
 ],
 "metadata": {
  "language_info": {
   "name": "python"
  }
 },
 "nbformat": 4,
 "nbformat_minor": 5
}
